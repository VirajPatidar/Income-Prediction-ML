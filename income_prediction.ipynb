{
  "cells": [
    {
      "cell_type": "code",
      "execution_count": 264,
      "metadata": {
        "id": "JRjZfltkF8ME"
      },
      "outputs": [],
      "source": [
        "import numpy as np\n",
        "import pandas as pd\n",
        "\n",
        "import matplotlib.pyplot as plt  \n",
        "import seaborn as sns \n",
        "\n",
        "from sklearn.neighbors import KNeighborsClassifier\n",
        "from sklearn.linear_model import LogisticRegression\n",
        "from sklearn.tree import DecisionTreeClassifier\n",
        "from sklearn.ensemble import RandomForestClassifier \n",
        "from sklearn.model_selection import train_test_split\n",
        "\n",
        "from sklearn.preprocessing import LabelEncoder"
      ]
    },
    {
      "cell_type": "code",
      "execution_count": 265,
      "metadata": {
        "id": "JPxRQ9WnItW0"
      },
      "outputs": [],
      "source": [
        "def remove_fullstop(text):\n",
        "    try:\n",
        "        text = ''.join(ch for ch in text if ch not in '.')\n",
        "    except:\n",
        "        pass\n",
        "    return text"
      ]
    },
    {
      "cell_type": "code",
      "execution_count": 266,
      "metadata": {
        "colab": {
          "base_uri": "https://localhost:8080/",
          "height": 105
        },
        "id": "9kQurWBOIyI_",
        "outputId": "9e206421-4fae-4881-cd61-18fee2354d00"
      },
      "outputs": [
        {
          "name": "stderr",
          "output_type": "stream",
          "text": [
            "/usr/local/lib/python3.6/dist-packages/ipykernel_launcher.py:1: ParserWarning: Falling back to the 'python' engine because the 'c' engine does not support regex separators (separators > 1 char and different from '\\s+' are interpreted as regex); you can avoid this warning by specifying engine='python'.\n",
            "  \"\"\"Entry point for launching an IPython kernel.\n",
            "/usr/local/lib/python3.6/dist-packages/ipykernel_launcher.py:6: ParserWarning: Falling back to the 'python' engine because the 'c' engine does not support regex separators (separators > 1 char and different from '\\s+' are interpreted as regex); you can avoid this warning by specifying engine='python'.\n",
            "  \n"
          ]
        }
      ],
      "source": [
        "original = pd.read_csv('/content/assignment_test.csv', na_values='?', sep=' *, *')\n",
        "original.rename(columns = {'Unnamed: 0':'id'}, inplace = True)\n",
        "original.drop(['Income_knn', 'Income_lr', 'Income_dt', 'Income_rf'], axis = 1, inplace = True)\n",
        "test = original.copy()\n",
        "\n",
        "df = pd.read_csv('/content/assignment_train.csv', na_values='?', sep=' *, *')\n",
        "df.rename(columns = {'Unnamed: 0':'id'}, inplace = True)\n",
        "\n",
        "df.Income = df.Income.apply(remove_fullstop)"
      ]
    },
    {
      "cell_type": "code",
      "execution_count": 267,
      "metadata": {
        "colab": {
          "base_uri": "https://localhost:8080/",
          "height": 102
        },
        "id": "xZtsN4lwS05q",
        "outputId": "a71663a6-4b24-4618-87c4-480f6ff4f2ff"
      },
      "outputs": [
        {
          "data": {
            "text/plain": [
              "Index(['id', 'age', 'workclass', 'fnlwgt', 'education', 'education-num',\n",
              "       'marital-status', 'occupation', 'relationship', 'race', 'sex',\n",
              "       'capital-gain', 'capital-loss', 'hours-per-week', 'native-country',\n",
              "       'Income'],\n",
              "      dtype='object')"
            ]
          },
          "execution_count": 267,
          "metadata": {
            "tags": []
          },
          "output_type": "execute_result"
        }
      ],
      "source": [
        "df.columns"
      ]
    },
    {
      "cell_type": "code",
      "execution_count": 268,
      "metadata": {
        "colab": {
          "base_uri": "https://localhost:8080/",
          "height": 68
        },
        "id": "yV7Bu2mrWOAH",
        "outputId": "bb9170c0-9c97-4f4a-cbde-c7e5c1862817"
      },
      "outputs": [
        {
          "data": {
            "text/plain": [
              "<=50K    31588\n",
              ">50K      9928\n",
              "Name: Income, dtype: int64"
            ]
          },
          "execution_count": 268,
          "metadata": {
            "tags": []
          },
          "output_type": "execute_result"
        }
      ],
      "source": [
        "df['Income'].value_counts()"
      ]
    },
    {
      "cell_type": "code",
      "execution_count": 269,
      "metadata": {
        "id": "kDZdkNLfNHEH"
      },
      "outputs": [],
      "source": [
        "def change(text):\n",
        "    if(text == '>50K'):\n",
        "        return 0\n",
        "    if(text == '<=50K'):\n",
        "        return 1\n",
        "df['Income'] = df['Income'].apply(change)"
      ]
    },
    {
      "cell_type": "code",
      "execution_count": 270,
      "metadata": {
        "colab": {
          "base_uri": "https://localhost:8080/",
          "height": 68
        },
        "id": "R3FNkiiIWWdQ",
        "outputId": "d92e09c3-744e-43aa-fa8c-6508fe8a8205"
      },
      "outputs": [
        {
          "data": {
            "text/plain": [
              "1    31588\n",
              "0     9928\n",
              "Name: Income, dtype: int64"
            ]
          },
          "execution_count": 270,
          "metadata": {
            "tags": []
          },
          "output_type": "execute_result"
        }
      ],
      "source": [
        "df['Income'].value_counts()"
      ]
    },
    {
      "cell_type": "code",
      "execution_count": 271,
      "metadata": {
        "colab": {
          "base_uri": "https://localhost:8080/",
          "height": 306
        },
        "id": "Q5aHH8cPHAE7",
        "outputId": "0b372002-07d0-4a6f-b7b8-291509f4d71e"
      },
      "outputs": [
        {
          "data": {
            "text/plain": [
              "id                   0\n",
              "age                  0\n",
              "workclass         2404\n",
              "fnlwgt               0\n",
              "education            0\n",
              "education-num        0\n",
              "marital-status       0\n",
              "occupation        2413\n",
              "relationship         0\n",
              "race                 0\n",
              "sex                  0\n",
              "capital-gain         0\n",
              "capital-loss         0\n",
              "hours-per-week       0\n",
              "native-country     725\n",
              "Income               0\n",
              "dtype: int64"
            ]
          },
          "execution_count": 271,
          "metadata": {
            "tags": []
          },
          "output_type": "execute_result"
        }
      ],
      "source": [
        "df.isin([np.nan]).sum(axis=0)"
      ]
    },
    {
      "cell_type": "code",
      "execution_count": 272,
      "metadata": {
        "colab": {
          "base_uri": "https://localhost:8080/",
          "height": 170
        },
        "id": "rfV1i_wmW4IU",
        "outputId": "c35d7322-62b3-453f-f846-319ac05bc18f"
      },
      "outputs": [
        {
          "data": {
            "text/plain": [
              "Private             28819\n",
              "Self-emp-not-inc     3269\n",
              "Local-gov            2651\n",
              "State-gov            1672\n",
              "Self-emp-inc         1457\n",
              "Federal-gov          1220\n",
              "Without-pay            15\n",
              "Never-worked            9\n",
              "Name: workclass, dtype: int64"
            ]
          },
          "execution_count": 272,
          "metadata": {
            "tags": []
          },
          "output_type": "execute_result"
        }
      ],
      "source": [
        "df['workclass'].value_counts()"
      ]
    },
    {
      "cell_type": "code",
      "execution_count": 273,
      "metadata": {
        "colab": {
          "base_uri": "https://localhost:8080/",
          "height": 272
        },
        "id": "-e_PcbibOhOy",
        "outputId": "43de2257-1158-4316-e189-457b7bc8cd08"
      },
      "outputs": [
        {
          "data": {
            "text/plain": [
              "Prof-specialty       5268\n",
              "Craft-repair         5170\n",
              "Exec-managerial      5142\n",
              "Adm-clerical         4762\n",
              "Sales                4705\n",
              "Other-service        4171\n",
              "Machine-op-inspct    2581\n",
              "Transport-moving     2016\n",
              "Handlers-cleaners    1759\n",
              "Farming-fishing      1252\n",
              "Tech-support         1221\n",
              "Protective-serv       849\n",
              "Priv-house-serv       194\n",
              "Armed-Forces           13\n",
              "Name: occupation, dtype: int64"
            ]
          },
          "execution_count": 273,
          "metadata": {
            "tags": []
          },
          "output_type": "execute_result"
        }
      ],
      "source": [
        "df['occupation'].value_counts()"
      ]
    },
    {
      "cell_type": "code",
      "execution_count": 274,
      "metadata": {
        "colab": {
          "base_uri": "https://localhost:8080/",
          "height": 731
        },
        "id": "Wo0b0AwKW-E6",
        "outputId": "b0ca72db-190b-4d29-a64e-d15bab2951d5"
      },
      "outputs": [
        {
          "data": {
            "text/plain": [
              "United-States                 37255\n",
              "Mexico                          799\n",
              "Philippines                     249\n",
              "Germany                         165\n",
              "Canada                          162\n",
              "Puerto-Rico                     153\n",
              "El-Salvador                     134\n",
              "India                           127\n",
              "Cuba                            117\n",
              "England                         116\n",
              "China                           107\n",
              "South                            98\n",
              "Jamaica                          91\n",
              "Italy                            89\n",
              "Dominican-Republic               85\n",
              "Japan                            82\n",
              "Guatemala                        76\n",
              "Poland                           74\n",
              "Vietnam                          74\n",
              "Columbia                         69\n",
              "Haiti                            62\n",
              "Taiwan                           59\n",
              "Portugal                         58\n",
              "Iran                             50\n",
              "Nicaragua                        43\n",
              "Greece                           42\n",
              "Ecuador                          40\n",
              "Peru                             39\n",
              "France                           36\n",
              "Ireland                          31\n",
              "Hong                             27\n",
              "Cambodia                         25\n",
              "Trinadad&Tobago                  23\n",
              "Thailand                         23\n",
              "Outlying-US(Guam-USVI-etc)       21\n",
              "Laos                             20\n",
              "Yugoslavia                       20\n",
              "Scotland                         17\n",
              "Honduras                         17\n",
              "Hungary                          15\n",
              "Holand-Netherlands                1\n",
              "Name: native-country, dtype: int64"
            ]
          },
          "execution_count": 274,
          "metadata": {
            "tags": []
          },
          "output_type": "execute_result"
        }
      ],
      "source": [
        "df['native-country'].value_counts()"
      ]
    },
    {
      "cell_type": "code",
      "execution_count": 275,
      "metadata": {
        "colab": {
          "base_uri": "https://localhost:8080/",
          "height": 306
        },
        "id": "pYHQr_zGXtL8",
        "outputId": "76d27c4d-fb51-4001-eb62-fceeccbfa8d5"
      },
      "outputs": [
        {
          "data": {
            "text/plain": [
              "id                   0\n",
              "age                  0\n",
              "workclass         2404\n",
              "fnlwgt               0\n",
              "education            0\n",
              "education-num        0\n",
              "marital-status       0\n",
              "occupation        2413\n",
              "relationship         0\n",
              "race                 0\n",
              "sex                  0\n",
              "capital-gain         0\n",
              "capital-loss         0\n",
              "hours-per-week       0\n",
              "native-country     725\n",
              "Income               0\n",
              "dtype: int64"
            ]
          },
          "execution_count": 275,
          "metadata": {
            "tags": []
          },
          "output_type": "execute_result"
        }
      ],
      "source": [
        "df.isin([np.nan]).sum(axis=0)"
      ]
    },
    {
      "cell_type": "code",
      "execution_count": 276,
      "metadata": {
        "id": "ySoVl-sfOtas"
      },
      "outputs": [],
      "source": [
        "df['workclass'].fillna('Private', inplace = True)\n",
        "df['occupation'].fillna('Prof-specialty', inplace = True)\n",
        "df['native-country'].fillna('United-States', inplace = True)\n",
        "\n",
        "test['workclass'].fillna('Private', inplace = True)\n",
        "test['occupation'].fillna('Prof-specialty', inplace = True)\n",
        "test['native-country'].fillna('United-States', inplace = True)"
      ]
    },
    {
      "cell_type": "code",
      "execution_count": 277,
      "metadata": {
        "colab": {
          "base_uri": "https://localhost:8080/",
          "height": 306
        },
        "id": "-zShEcn5OwVj",
        "outputId": "227d8089-fd7d-4707-ab5b-4e8682e9c913"
      },
      "outputs": [
        {
          "data": {
            "text/plain": [
              "id                0\n",
              "age               0\n",
              "workclass         0\n",
              "fnlwgt            0\n",
              "education         0\n",
              "education-num     0\n",
              "marital-status    0\n",
              "occupation        0\n",
              "relationship      0\n",
              "race              0\n",
              "sex               0\n",
              "capital-gain      0\n",
              "capital-loss      0\n",
              "hours-per-week    0\n",
              "native-country    0\n",
              "Income            0\n",
              "dtype: int64"
            ]
          },
          "execution_count": 277,
          "metadata": {
            "tags": []
          },
          "output_type": "execute_result"
        }
      ],
      "source": [
        "df.isin([np.nan]).sum(axis=0)"
      ]
    },
    {
      "cell_type": "code",
      "execution_count": 278,
      "metadata": {
        "colab": {
          "base_uri": "https://localhost:8080/",
          "height": 408
        },
        "id": "4obggHdoeStB",
        "outputId": "2f831888-1980-40b3-8eb3-d7bc0d7d0a0f"
      },
      "outputs": [
        {
          "name": "stdout",
          "output_type": "stream",
          "text": [
            "<class 'pandas.core.frame.DataFrame'>\n",
            "RangeIndex: 41516 entries, 0 to 41515\n",
            "Data columns (total 16 columns):\n",
            " #   Column          Non-Null Count  Dtype \n",
            "---  ------          --------------  ----- \n",
            " 0   id              41516 non-null  int64 \n",
            " 1   age             41516 non-null  int64 \n",
            " 2   workclass       41516 non-null  object\n",
            " 3   fnlwgt          41516 non-null  int64 \n",
            " 4   education       41516 non-null  object\n",
            " 5   education-num   41516 non-null  int64 \n",
            " 6   marital-status  41516 non-null  object\n",
            " 7   occupation      41516 non-null  object\n",
            " 8   relationship    41516 non-null  object\n",
            " 9   race            41516 non-null  object\n",
            " 10  sex             41516 non-null  object\n",
            " 11  capital-gain    41516 non-null  int64 \n",
            " 12  capital-loss    41516 non-null  int64 \n",
            " 13  hours-per-week  41516 non-null  int64 \n",
            " 14  native-country  41516 non-null  object\n",
            " 15  Income          41516 non-null  int64 \n",
            "dtypes: int64(8), object(8)\n",
            "memory usage: 5.1+ MB\n"
          ]
        }
      ],
      "source": [
        "df.info()"
      ]
    },
    {
      "cell_type": "code",
      "execution_count": 279,
      "metadata": {
        "colab": {
          "base_uri": "https://localhost:8080/",
          "height": 153
        },
        "id": "Zwmotzhbdiko",
        "outputId": "6ccfc7f6-54cb-4b52-cbc1-5e6ecc569067"
      },
      "outputs": [
        {
          "data": {
            "text/plain": [
              "Married-civ-spouse       19039\n",
              "Never-married            13736\n",
              "Divorced                  5613\n",
              "Separated                 1291\n",
              "Widowed                   1279\n",
              "Married-spouse-absent      527\n",
              "Married-AF-spouse           31\n",
              "Name: marital-status, dtype: int64"
            ]
          },
          "execution_count": 279,
          "metadata": {
            "tags": []
          },
          "output_type": "execute_result"
        }
      ],
      "source": [
        "df['marital-status'].value_counts()"
      ]
    },
    {
      "cell_type": "code",
      "execution_count": 280,
      "metadata": {
        "colab": {
          "base_uri": "https://localhost:8080/",
          "height": 102
        },
        "id": "WqrrkTAOdcuL",
        "outputId": "d44efcd4-ea00-4338-8719-6d54759ad2ae"
      },
      "outputs": [
        {
          "data": {
            "text/plain": [
              "Married          19597\n",
              "Never-married    13736\n",
              "Separated         6904\n",
              "Widowed           1279\n",
              "Name: marital-status, dtype: int64"
            ]
          },
          "execution_count": 280,
          "metadata": {
            "tags": []
          },
          "output_type": "execute_result"
        }
      ],
      "source": [
        "married= ['Married-spouse-absent','Married-civ-spouse','Married-AF-spouse']\n",
        "separated = ['Separated','Divorced']\n",
        "df['marital-status'].replace(to_replace = married ,value = 'Married',inplace = True)\n",
        "df['marital-status'].replace(to_replace = separated,value = 'Separated',inplace = True)\n",
        "\n",
        "df['marital-status'].value_counts()"
      ]
    },
    {
      "cell_type": "code",
      "execution_count": 281,
      "metadata": {
        "id": "NHF06CSwNi1i"
      },
      "outputs": [],
      "source": [
        "test['marital-status'].replace(to_replace = married ,value = 'Married',inplace = True)\n",
        "test['marital-status'].replace(to_replace = separated,value = 'Separated',inplace = True)"
      ]
    },
    {
      "cell_type": "code",
      "execution_count": 282,
      "metadata": {
        "colab": {
          "base_uri": "https://localhost:8080/",
          "height": 170
        },
        "id": "H70mlxhReVRA",
        "outputId": "0d6020fc-a9eb-4725-e58e-f5d8bb983e9c"
      },
      "outputs": [
        {
          "data": {
            "text/plain": [
              "Private             31223\n",
              "Self-emp-not-inc     3269\n",
              "Local-gov            2651\n",
              "State-gov            1672\n",
              "Self-emp-inc         1457\n",
              "Federal-gov          1220\n",
              "Without-pay            15\n",
              "Never-worked            9\n",
              "Name: workclass, dtype: int64"
            ]
          },
          "execution_count": 282,
          "metadata": {
            "tags": []
          },
          "output_type": "execute_result"
        }
      ],
      "source": [
        "df['workclass'].value_counts()"
      ]
    },
    {
      "cell_type": "code",
      "execution_count": 283,
      "metadata": {
        "colab": {
          "base_uri": "https://localhost:8080/",
          "height": 119
        },
        "id": "Ew8kLCQSeVDM",
        "outputId": "80242396-e5d5-4707-b924-ddff071b2b5a"
      },
      "outputs": [
        {
          "data": {
            "text/plain": [
              "Private           31223\n",
              "Govt_employees     5543\n",
              "Self_employed      4726\n",
              "Without-pay          15\n",
              "Never-worked          9\n",
              "Name: workclass, dtype: int64"
            ]
          },
          "execution_count": 283,
          "metadata": {
            "tags": []
          },
          "output_type": "execute_result"
        }
      ],
      "source": [
        "self_employed = ['Self-emp-not-inc','Self-emp-inc']\n",
        "govt_employees = ['Local-gov','State-gov','Federal-gov']\n",
        "\n",
        "df['workclass'].replace(to_replace = self_employed ,value = 'Self_employed',inplace = True)\n",
        "df['workclass'].replace(to_replace = govt_employees,value = 'Govt_employees',inplace = True)\n",
        "df['workclass'].value_counts()"
      ]
    },
    {
      "cell_type": "code",
      "execution_count": 284,
      "metadata": {
        "id": "mAXsSQiXNsU5"
      },
      "outputs": [],
      "source": [
        "test['workclass'].replace(to_replace = self_employed ,value = 'Self_employed',inplace = True)\n",
        "test['workclass'].replace(to_replace = govt_employees,value = 'Govt_employees',inplace = True)"
      ]
    },
    {
      "cell_type": "code",
      "execution_count": 286,
      "metadata": {
        "id": "jaN4uk6GO-Gy"
      },
      "outputs": [],
      "source": [
        "#df = df.apply(LabelEncoder().fit_transform)\n",
        "df['workclass']= LabelEncoder().fit_transform(df['workclass'])\n",
        "df['education']= LabelEncoder().fit_transform(df['education'])\n",
        "df['marital-status']= LabelEncoder().fit_transform(df['marital-status'])\n",
        "df['occupation']= LabelEncoder().fit_transform(df['occupation'])\n",
        "df['relationship']= LabelEncoder().fit_transform(df['relationship'])\n",
        "df['race']= LabelEncoder().fit_transform(df['race'])\n",
        "df['sex']= LabelEncoder().fit_transform(df['sex'])\n",
        "df['native-country']= LabelEncoder().fit_transform(df['native-country'])\n",
        "\n",
        "test['workclass']= LabelEncoder().fit_transform(test['workclass'])\n",
        "test['education']= LabelEncoder().fit_transform(test['education'])\n",
        "test['marital-status']= LabelEncoder().fit_transform(test['marital-status'])\n",
        "test['occupation']= LabelEncoder().fit_transform(test['occupation'])\n",
        "test['relationship']= LabelEncoder().fit_transform(test['relationship'])\n",
        "test['race']= LabelEncoder().fit_transform(test['race'])\n",
        "test['sex']= LabelEncoder().fit_transform(test['sex'])\n",
        "test['native-country']= LabelEncoder().fit_transform(test['native-country'])"
      ]
    },
    {
      "cell_type": "code",
      "execution_count": 287,
      "metadata": {
        "colab": {
          "base_uri": "https://localhost:8080/",
          "height": 408
        },
        "id": "L4Avde9_fVLo",
        "outputId": "bfe44502-f57f-4f73-b5c2-ccff6bf77fe8"
      },
      "outputs": [
        {
          "name": "stdout",
          "output_type": "stream",
          "text": [
            "<class 'pandas.core.frame.DataFrame'>\n",
            "RangeIndex: 41516 entries, 0 to 41515\n",
            "Data columns (total 16 columns):\n",
            " #   Column          Non-Null Count  Dtype\n",
            "---  ------          --------------  -----\n",
            " 0   id              41516 non-null  int64\n",
            " 1   age             41516 non-null  int64\n",
            " 2   workclass       41516 non-null  int64\n",
            " 3   fnlwgt          41516 non-null  int64\n",
            " 4   education       41516 non-null  int64\n",
            " 5   education-num   41516 non-null  int64\n",
            " 6   marital-status  41516 non-null  int64\n",
            " 7   occupation      41516 non-null  int64\n",
            " 8   relationship    41516 non-null  int64\n",
            " 9   race            41516 non-null  int64\n",
            " 10  sex             41516 non-null  int64\n",
            " 11  capital-gain    41516 non-null  int64\n",
            " 12  capital-loss    41516 non-null  int64\n",
            " 13  hours-per-week  41516 non-null  int64\n",
            " 14  native-country  41516 non-null  int64\n",
            " 15  Income          41516 non-null  int64\n",
            "dtypes: int64(16)\n",
            "memory usage: 5.1 MB\n"
          ]
        }
      ],
      "source": [
        "df.info()"
      ]
    },
    {
      "cell_type": "code",
      "execution_count": 289,
      "metadata": {
        "colab": {
          "base_uri": "https://localhost:8080/",
          "height": 258
        },
        "id": "LzNqIN78Z6KP",
        "outputId": "200138c9-b6a6-4729-d29a-5c806290c4bd"
      },
      "outputs": [
        {
          "data": {
            "text/html": [
              "<div>\n",
              "<style scoped>\n",
              "    .dataframe tbody tr th:only-of-type {\n",
              "        vertical-align: middle;\n",
              "    }\n",
              "\n",
              "    .dataframe tbody tr th {\n",
              "        vertical-align: top;\n",
              "    }\n",
              "\n",
              "    .dataframe thead th {\n",
              "        text-align: right;\n",
              "    }\n",
              "</style>\n",
              "<table border=\"1\" class=\"dataframe\">\n",
              "  <thead>\n",
              "    <tr style=\"text-align: right;\">\n",
              "      <th></th>\n",
              "      <th>id</th>\n",
              "      <th>age</th>\n",
              "      <th>workclass</th>\n",
              "      <th>fnlwgt</th>\n",
              "      <th>education</th>\n",
              "      <th>education-num</th>\n",
              "      <th>marital-status</th>\n",
              "      <th>occupation</th>\n",
              "      <th>relationship</th>\n",
              "      <th>race</th>\n",
              "      <th>sex</th>\n",
              "      <th>capital-gain</th>\n",
              "      <th>capital-loss</th>\n",
              "      <th>hours-per-week</th>\n",
              "      <th>native-country</th>\n",
              "      <th>Income</th>\n",
              "    </tr>\n",
              "  </thead>\n",
              "  <tbody>\n",
              "    <tr>\n",
              "      <th>0</th>\n",
              "      <td>26468</td>\n",
              "      <td>48</td>\n",
              "      <td>2</td>\n",
              "      <td>123075</td>\n",
              "      <td>8</td>\n",
              "      <td>11</td>\n",
              "      <td>0</td>\n",
              "      <td>12</td>\n",
              "      <td>0</td>\n",
              "      <td>4</td>\n",
              "      <td>1</td>\n",
              "      <td>0</td>\n",
              "      <td>0</td>\n",
              "      <td>40</td>\n",
              "      <td>38</td>\n",
              "      <td>0</td>\n",
              "    </tr>\n",
              "    <tr>\n",
              "      <th>1</th>\n",
              "      <td>47137</td>\n",
              "      <td>35</td>\n",
              "      <td>2</td>\n",
              "      <td>184685</td>\n",
              "      <td>15</td>\n",
              "      <td>10</td>\n",
              "      <td>1</td>\n",
              "      <td>0</td>\n",
              "      <td>2</td>\n",
              "      <td>2</td>\n",
              "      <td>0</td>\n",
              "      <td>0</td>\n",
              "      <td>0</td>\n",
              "      <td>40</td>\n",
              "      <td>38</td>\n",
              "      <td>1</td>\n",
              "    </tr>\n",
              "    <tr>\n",
              "      <th>2</th>\n",
              "      <td>21282</td>\n",
              "      <td>65</td>\n",
              "      <td>2</td>\n",
              "      <td>105252</td>\n",
              "      <td>11</td>\n",
              "      <td>9</td>\n",
              "      <td>0</td>\n",
              "      <td>12</td>\n",
              "      <td>0</td>\n",
              "      <td>4</td>\n",
              "      <td>1</td>\n",
              "      <td>0</td>\n",
              "      <td>0</td>\n",
              "      <td>40</td>\n",
              "      <td>38</td>\n",
              "      <td>0</td>\n",
              "    </tr>\n",
              "    <tr>\n",
              "      <th>3</th>\n",
              "      <td>46100</td>\n",
              "      <td>45</td>\n",
              "      <td>2</td>\n",
              "      <td>175990</td>\n",
              "      <td>11</td>\n",
              "      <td>9</td>\n",
              "      <td>2</td>\n",
              "      <td>3</td>\n",
              "      <td>4</td>\n",
              "      <td>4</td>\n",
              "      <td>0</td>\n",
              "      <td>0</td>\n",
              "      <td>0</td>\n",
              "      <td>38</td>\n",
              "      <td>38</td>\n",
              "      <td>1</td>\n",
              "    </tr>\n",
              "    <tr>\n",
              "      <th>4</th>\n",
              "      <td>15420</td>\n",
              "      <td>57</td>\n",
              "      <td>3</td>\n",
              "      <td>106103</td>\n",
              "      <td>15</td>\n",
              "      <td>10</td>\n",
              "      <td>0</td>\n",
              "      <td>12</td>\n",
              "      <td>0</td>\n",
              "      <td>4</td>\n",
              "      <td>1</td>\n",
              "      <td>0</td>\n",
              "      <td>0</td>\n",
              "      <td>60</td>\n",
              "      <td>38</td>\n",
              "      <td>0</td>\n",
              "    </tr>\n",
              "  </tbody>\n",
              "</table>\n",
              "</div>"
            ],
            "text/plain": [
              "      id  age  workclass  ...  hours-per-week  native-country  Income\n",
              "0  26468   48          2  ...              40              38       0\n",
              "1  47137   35          2  ...              40              38       1\n",
              "2  21282   65          2  ...              40              38       0\n",
              "3  46100   45          2  ...              38              38       1\n",
              "4  15420   57          3  ...              60              38       0\n",
              "\n",
              "[5 rows x 16 columns]"
            ]
          },
          "execution_count": 289,
          "metadata": {
            "tags": []
          },
          "output_type": "execute_result"
        }
      ],
      "source": [
        "df.head()"
      ]
    },
    {
      "cell_type": "code",
      "execution_count": 290,
      "metadata": {
        "colab": {
          "base_uri": "https://localhost:8080/",
          "height": 258
        },
        "id": "YH0AxNyuiHc2",
        "outputId": "af0ccdca-a595-4c18-f335-29ec153e9bb1"
      },
      "outputs": [
        {
          "data": {
            "text/html": [
              "<div>\n",
              "<style scoped>\n",
              "    .dataframe tbody tr th:only-of-type {\n",
              "        vertical-align: middle;\n",
              "    }\n",
              "\n",
              "    .dataframe tbody tr th {\n",
              "        vertical-align: top;\n",
              "    }\n",
              "\n",
              "    .dataframe thead th {\n",
              "        text-align: right;\n",
              "    }\n",
              "</style>\n",
              "<table border=\"1\" class=\"dataframe\">\n",
              "  <thead>\n",
              "    <tr style=\"text-align: right;\">\n",
              "      <th></th>\n",
              "      <th>id</th>\n",
              "      <th>age</th>\n",
              "      <th>workclass</th>\n",
              "      <th>fnlwgt</th>\n",
              "      <th>education</th>\n",
              "      <th>education-num</th>\n",
              "      <th>marital-status</th>\n",
              "      <th>occupation</th>\n",
              "      <th>relationship</th>\n",
              "      <th>race</th>\n",
              "      <th>sex</th>\n",
              "      <th>capital-gain</th>\n",
              "      <th>capital-loss</th>\n",
              "      <th>hours-per-week</th>\n",
              "      <th>native-country</th>\n",
              "      <th>Income</th>\n",
              "    </tr>\n",
              "  </thead>\n",
              "  <tbody>\n",
              "    <tr>\n",
              "      <th>41511</th>\n",
              "      <td>20904</td>\n",
              "      <td>20</td>\n",
              "      <td>2</td>\n",
              "      <td>194630</td>\n",
              "      <td>11</td>\n",
              "      <td>9</td>\n",
              "      <td>0</td>\n",
              "      <td>0</td>\n",
              "      <td>0</td>\n",
              "      <td>4</td>\n",
              "      <td>1</td>\n",
              "      <td>3781</td>\n",
              "      <td>0</td>\n",
              "      <td>50</td>\n",
              "      <td>38</td>\n",
              "      <td>1</td>\n",
              "    </tr>\n",
              "    <tr>\n",
              "      <th>41512</th>\n",
              "      <td>14661</td>\n",
              "      <td>47</td>\n",
              "      <td>0</td>\n",
              "      <td>36169</td>\n",
              "      <td>12</td>\n",
              "      <td>14</td>\n",
              "      <td>0</td>\n",
              "      <td>9</td>\n",
              "      <td>0</td>\n",
              "      <td>4</td>\n",
              "      <td>1</td>\n",
              "      <td>0</td>\n",
              "      <td>0</td>\n",
              "      <td>60</td>\n",
              "      <td>38</td>\n",
              "      <td>0</td>\n",
              "    </tr>\n",
              "    <tr>\n",
              "      <th>41513</th>\n",
              "      <td>28471</td>\n",
              "      <td>28</td>\n",
              "      <td>3</td>\n",
              "      <td>191129</td>\n",
              "      <td>11</td>\n",
              "      <td>9</td>\n",
              "      <td>1</td>\n",
              "      <td>3</td>\n",
              "      <td>1</td>\n",
              "      <td>4</td>\n",
              "      <td>1</td>\n",
              "      <td>0</td>\n",
              "      <td>0</td>\n",
              "      <td>65</td>\n",
              "      <td>38</td>\n",
              "      <td>0</td>\n",
              "    </tr>\n",
              "    <tr>\n",
              "      <th>41514</th>\n",
              "      <td>9373</td>\n",
              "      <td>40</td>\n",
              "      <td>2</td>\n",
              "      <td>224799</td>\n",
              "      <td>9</td>\n",
              "      <td>13</td>\n",
              "      <td>0</td>\n",
              "      <td>9</td>\n",
              "      <td>0</td>\n",
              "      <td>4</td>\n",
              "      <td>1</td>\n",
              "      <td>0</td>\n",
              "      <td>0</td>\n",
              "      <td>45</td>\n",
              "      <td>38</td>\n",
              "      <td>1</td>\n",
              "    </tr>\n",
              "    <tr>\n",
              "      <th>41515</th>\n",
              "      <td>45800</td>\n",
              "      <td>55</td>\n",
              "      <td>2</td>\n",
              "      <td>173422</td>\n",
              "      <td>15</td>\n",
              "      <td>10</td>\n",
              "      <td>0</td>\n",
              "      <td>6</td>\n",
              "      <td>0</td>\n",
              "      <td>4</td>\n",
              "      <td>1</td>\n",
              "      <td>0</td>\n",
              "      <td>0</td>\n",
              "      <td>40</td>\n",
              "      <td>38</td>\n",
              "      <td>1</td>\n",
              "    </tr>\n",
              "  </tbody>\n",
              "</table>\n",
              "</div>"
            ],
            "text/plain": [
              "          id  age  workclass  ...  hours-per-week  native-country  Income\n",
              "41511  20904   20          2  ...              50              38       1\n",
              "41512  14661   47          0  ...              60              38       0\n",
              "41513  28471   28          3  ...              65              38       0\n",
              "41514   9373   40          2  ...              45              38       1\n",
              "41515  45800   55          2  ...              40              38       1\n",
              "\n",
              "[5 rows x 16 columns]"
            ]
          },
          "execution_count": 290,
          "metadata": {
            "tags": []
          },
          "output_type": "execute_result"
        }
      ],
      "source": [
        "df.tail()"
      ]
    },
    {
      "cell_type": "code",
      "execution_count": 291,
      "metadata": {
        "colab": {
          "base_uri": "https://localhost:8080/",
          "height": 867
        },
        "id": "4hYYYqn1uwSy",
        "outputId": "3b78607c-cfcc-43bf-cf8d-787bcb155052"
      },
      "outputs": [
        {
          "data": {
            "text/plain": [
              "<matplotlib.axes._subplots.AxesSubplot at 0x7f47058e27b8>"
            ]
          },
          "execution_count": 291,
          "metadata": {
            "tags": []
          },
          "output_type": "execute_result"
        },
        {
          "data": {
            "image/png": "[encoded data removed]",
            "text/plain": [
              "<Figure size 864x1080 with 2 Axes>"
            ]
          },
          "metadata": {
            "needs_background": "light",
            "tags": []
          },
          "output_type": "display_data"
        }
      ],
      "source": [
        "correlation_matrix = df.corr().round(2)\n",
        "plt.subplots(figsize=(12,15))\n",
        "sns.heatmap(data=correlation_matrix, annot=True ,square=True, cmap= 'coolwarm')"
      ]
    },
    {
      "cell_type": "code",
      "execution_count": 292,
      "metadata": {
        "colab": {
          "base_uri": "https://localhost:8080/",
          "height": 306
        },
        "id": "8aEQ05bea30q",
        "outputId": "cc63d458-575b-4929-a8c0-0a5025120dc6"
      },
      "outputs": [
        {
          "data": {
            "text/plain": [
              "id                41516\n",
              "age                  74\n",
              "workclass             5\n",
              "fnlwgt            25613\n",
              "education            16\n",
              "education-num        16\n",
              "marital-status        4\n",
              "occupation           14\n",
              "relationship          6\n",
              "race                  5\n",
              "sex                   2\n",
              "capital-gain        122\n",
              "capital-loss         98\n",
              "hours-per-week       95\n",
              "native-country       41\n",
              "Income                2\n",
              "dtype: int64"
            ]
          },
          "execution_count": 292,
          "metadata": {
            "tags": []
          },
          "output_type": "execute_result"
        }
      ],
      "source": [
        "df.nunique()"
      ]
    },
    {
      "cell_type": "markdown",
      "metadata": {
        "id": "T73bAj9X3oRA"
      },
      "source": [
        "### **KNN**"
      ]
    },
    {
      "cell_type": "code",
      "execution_count": 293,
      "metadata": {
        "id": "6ucqOJ5fqolU"
      },
      "outputs": [],
      "source": [
        "x= df.drop(['id','fnlwgt','workclass','education','occupation','race','native-country','Income'], axis =1)\n",
        "y= df['Income']\n",
        "x_train, x_test, y_train, y_test = train_test_split(x, y, test_size=0.3, stratify=y, random_state=42)"
      ]
    },
    {
      "cell_type": "code",
      "execution_count": 294,
      "metadata": {
        "colab": {
          "base_uri": "https://localhost:8080/",
          "height": 282
        },
        "id": "SRoYq0cNhVB2",
        "outputId": "82df2779-caf3-4618-c856-f8da62a05872"
      },
      "outputs": [
        {
          "data": {
            "text/plain": [
              "<matplotlib.legend.Legend at 0x7f4705279898>"
            ]
          },
          "execution_count": 294,
          "metadata": {
            "tags": []
          },
          "output_type": "execute_result"
        },
        {
          "data": {
            "image/png": "[encoded data removed]",
            "text/plain": [
              "<Figure size 432x288 with 1 Axes>"
            ]
          },
          "metadata": {
            "needs_background": "light",
            "tags": []
          },
          "output_type": "display_data"
        }
      ],
      "source": [
        "training_accuracy = []\n",
        "test_accuracy = []\n",
        "\n",
        "neighbors_settings = range(1,25)\n",
        "\n",
        "for n in neighbors_settings:\n",
        "  knn = KNeighborsClassifier(n_neighbors=n)\n",
        "  knn.fit(x_train, y_train)\n",
        "  training_accuracy.append(knn.score(x_train, y_train))\n",
        "  test_accuracy.append(knn.score(x_test, y_test))\n",
        "\n",
        "plt.plot(neighbors_settings, training_accuracy, label =\"training accuracy\")\n",
        "plt.plot(neighbors_settings, test_accuracy, label =\"test accuracy\")\n",
        "plt.legend()"
      ]
    },
    {
      "cell_type": "code",
      "execution_count": 295,
      "metadata": {
        "colab": {
          "base_uri": "https://localhost:8080/",
          "height": 51
        },
        "id": "ptpZO2KL2iSM",
        "outputId": "680da525-286f-42c0-859e-ce12de2c2949"
      },
      "outputs": [
        {
          "name": "stdout",
          "output_type": "stream",
          "text": [
            "Training Accuracy : 0.8648704449261897\n",
            "Testing Accuracy : 0.8553994379767161\n"
          ]
        }
      ],
      "source": [
        "x_train,x_test,y_train,y_test = train_test_split(x, y, test_size = 0.30, stratify = y, random_state=42)\n",
        "knn = KNeighborsClassifier(n_neighbors=17)\n",
        "knn.fit(x_train, y_train)\n",
        "print(\"Training Accuracy : \" + str(knn.score(x_train,y_train)))\n",
        "print(\"Testing Accuracy : \" + str(knn.score(x_test,y_test))) "
      ]
    },
    {
      "cell_type": "code",
      "execution_count": 296,
      "metadata": {
        "colab": {
          "base_uri": "https://localhost:8080/",
          "height": 394
        },
        "id": "oe0KA35u4JfG",
        "outputId": "890ddc14-11ea-4cb2-dcf2-7c07e35f1bd8"
      },
      "outputs": [
        {
          "data": {
            "text/html": [
              "<div>\n",
              "<style scoped>\n",
              "    .dataframe tbody tr th:only-of-type {\n",
              "        vertical-align: middle;\n",
              "    }\n",
              "\n",
              "    .dataframe tbody tr th {\n",
              "        vertical-align: top;\n",
              "    }\n",
              "\n",
              "    .dataframe thead th {\n",
              "        text-align: right;\n",
              "    }\n",
              "</style>\n",
              "<table border=\"1\" class=\"dataframe\">\n",
              "  <thead>\n",
              "    <tr style=\"text-align: right;\">\n",
              "      <th></th>\n",
              "      <th>id</th>\n",
              "      <th>age</th>\n",
              "      <th>workclass</th>\n",
              "      <th>fnlwgt</th>\n",
              "      <th>education</th>\n",
              "      <th>education-num</th>\n",
              "      <th>marital-status</th>\n",
              "      <th>occupation</th>\n",
              "      <th>relationship</th>\n",
              "      <th>race</th>\n",
              "      <th>sex</th>\n",
              "      <th>capital-gain</th>\n",
              "      <th>capital-loss</th>\n",
              "      <th>hours-per-week</th>\n",
              "      <th>native-country</th>\n",
              "      <th>Income_knn</th>\n",
              "    </tr>\n",
              "  </thead>\n",
              "  <tbody>\n",
              "    <tr>\n",
              "      <th>0</th>\n",
              "      <td>8</td>\n",
              "      <td>31</td>\n",
              "      <td>Private</td>\n",
              "      <td>45781</td>\n",
              "      <td>Masters</td>\n",
              "      <td>14</td>\n",
              "      <td>Never-married</td>\n",
              "      <td>Prof-specialty</td>\n",
              "      <td>Not-in-family</td>\n",
              "      <td>White</td>\n",
              "      <td>Female</td>\n",
              "      <td>14084</td>\n",
              "      <td>0</td>\n",
              "      <td>50</td>\n",
              "      <td>United-States</td>\n",
              "      <td>0</td>\n",
              "    </tr>\n",
              "    <tr>\n",
              "      <th>1</th>\n",
              "      <td>9</td>\n",
              "      <td>42</td>\n",
              "      <td>Private</td>\n",
              "      <td>159449</td>\n",
              "      <td>Bachelors</td>\n",
              "      <td>13</td>\n",
              "      <td>Married-civ-spouse</td>\n",
              "      <td>Exec-managerial</td>\n",
              "      <td>Husband</td>\n",
              "      <td>White</td>\n",
              "      <td>Male</td>\n",
              "      <td>5178</td>\n",
              "      <td>0</td>\n",
              "      <td>40</td>\n",
              "      <td>United-States</td>\n",
              "      <td>0</td>\n",
              "    </tr>\n",
              "    <tr>\n",
              "      <th>2</th>\n",
              "      <td>15</td>\n",
              "      <td>34</td>\n",
              "      <td>Private</td>\n",
              "      <td>245487</td>\n",
              "      <td>7th-8th</td>\n",
              "      <td>4</td>\n",
              "      <td>Married-civ-spouse</td>\n",
              "      <td>Transport-moving</td>\n",
              "      <td>Husband</td>\n",
              "      <td>Amer-Indian-Eskimo</td>\n",
              "      <td>Male</td>\n",
              "      <td>0</td>\n",
              "      <td>0</td>\n",
              "      <td>45</td>\n",
              "      <td>Mexico</td>\n",
              "      <td>1</td>\n",
              "    </tr>\n",
              "    <tr>\n",
              "      <th>3</th>\n",
              "      <td>30</td>\n",
              "      <td>23</td>\n",
              "      <td>Local-gov</td>\n",
              "      <td>190709</td>\n",
              "      <td>Assoc-acdm</td>\n",
              "      <td>12</td>\n",
              "      <td>Never-married</td>\n",
              "      <td>Protective-serv</td>\n",
              "      <td>Not-in-family</td>\n",
              "      <td>White</td>\n",
              "      <td>Male</td>\n",
              "      <td>0</td>\n",
              "      <td>0</td>\n",
              "      <td>52</td>\n",
              "      <td>United-States</td>\n",
              "      <td>1</td>\n",
              "    </tr>\n",
              "    <tr>\n",
              "      <th>4</th>\n",
              "      <td>34</td>\n",
              "      <td>22</td>\n",
              "      <td>State-gov</td>\n",
              "      <td>311512</td>\n",
              "      <td>Some-college</td>\n",
              "      <td>10</td>\n",
              "      <td>Married-civ-spouse</td>\n",
              "      <td>Other-service</td>\n",
              "      <td>Husband</td>\n",
              "      <td>Black</td>\n",
              "      <td>Male</td>\n",
              "      <td>0</td>\n",
              "      <td>0</td>\n",
              "      <td>15</td>\n",
              "      <td>United-States</td>\n",
              "      <td>1</td>\n",
              "    </tr>\n",
              "  </tbody>\n",
              "</table>\n",
              "</div>"
            ],
            "text/plain": [
              "   id  age  workclass  ...  hours-per-week native-country  Income_knn\n",
              "0   8   31    Private  ...              50  United-States           0\n",
              "1   9   42    Private  ...              40  United-States           0\n",
              "2  15   34    Private  ...              45         Mexico           1\n",
              "3  30   23  Local-gov  ...              52  United-States           1\n",
              "4  34   22  State-gov  ...              15  United-States           1\n",
              "\n",
              "[5 rows x 16 columns]"
            ]
          },
          "execution_count": 296,
          "metadata": {
            "tags": []
          },
          "output_type": "execute_result"
        }
      ],
      "source": [
        "X_test = test.drop(['id','fnlwgt','workclass','education','occupation','race','native-country'], axis =1)\n",
        "pred = knn.predict(X_test)\n",
        "original['Income_knn'] =pred\n",
        "original.head()"
      ]
    },
    {
      "cell_type": "markdown",
      "metadata": {
        "id": "9bolsBBC4_uK"
      },
      "source": [
        "### **LOGISTIC REGRESSION**"
      ]
    },
    {
      "cell_type": "code",
      "execution_count": 297,
      "metadata": {
        "id": "xPS-KH3KbLtY"
      },
      "outputs": [],
      "source": [
        "x= df.drop(['id','fnlwgt','workclass','education','occupation','race','native-country','Income'], axis =1)\n",
        "y= df['Income']\n",
        "x_train,x_test,y_train,y_test = train_test_split(x, y, test_size = 0.25, stratify = y, random_state=42)"
      ]
    },
    {
      "cell_type": "code",
      "execution_count": 298,
      "metadata": {
        "colab": {
          "base_uri": "https://localhost:8080/",
          "height": 51
        },
        "id": "5bMbXLwtiuUT",
        "outputId": "e30eab41-7403-409e-db3b-ee0d8ba5f6f6"
      },
      "outputs": [
        {
          "name": "stdout",
          "output_type": "stream",
          "text": [
            "Training Accuracy : 0.8386485531682564\n",
            "Testing Accuracy : 0.8367858175161383\n"
          ]
        }
      ],
      "source": [
        "lr = LogisticRegression(C=1.0, penalty='l1', solver='liblinear')\n",
        "lr.fit(x_train, y_train)\n",
        "\n",
        "print(\"Training Accuracy : \" + str(lr.score(x_train,y_train)))\n",
        "print(\"Testing Accuracy : \" + str(lr.score(x_test,y_test)))"
      ]
    },
    {
      "cell_type": "code",
      "execution_count": 299,
      "metadata": {
        "colab": {
          "base_uri": "https://localhost:8080/",
          "height": 394
        },
        "id": "c-h5Ka555ipm",
        "outputId": "4677da9a-b10d-4b17-deab-d46b368e7029"
      },
      "outputs": [
        {
          "data": {
            "text/html": [
              "<div>\n",
              "<style scoped>\n",
              "    .dataframe tbody tr th:only-of-type {\n",
              "        vertical-align: middle;\n",
              "    }\n",
              "\n",
              "    .dataframe tbody tr th {\n",
              "        vertical-align: top;\n",
              "    }\n",
              "\n",
              "    .dataframe thead th {\n",
              "        text-align: right;\n",
              "    }\n",
              "</style>\n",
              "<table border=\"1\" class=\"dataframe\">\n",
              "  <thead>\n",
              "    <tr style=\"text-align: right;\">\n",
              "      <th></th>\n",
              "      <th>id</th>\n",
              "      <th>age</th>\n",
              "      <th>workclass</th>\n",
              "      <th>fnlwgt</th>\n",
              "      <th>education</th>\n",
              "      <th>education-num</th>\n",
              "      <th>marital-status</th>\n",
              "      <th>occupation</th>\n",
              "      <th>relationship</th>\n",
              "      <th>race</th>\n",
              "      <th>sex</th>\n",
              "      <th>capital-gain</th>\n",
              "      <th>capital-loss</th>\n",
              "      <th>hours-per-week</th>\n",
              "      <th>native-country</th>\n",
              "      <th>Income_knn</th>\n",
              "      <th>Income_lr</th>\n",
              "    </tr>\n",
              "  </thead>\n",
              "  <tbody>\n",
              "    <tr>\n",
              "      <th>0</th>\n",
              "      <td>8</td>\n",
              "      <td>31</td>\n",
              "      <td>Private</td>\n",
              "      <td>45781</td>\n",
              "      <td>Masters</td>\n",
              "      <td>14</td>\n",
              "      <td>Never-married</td>\n",
              "      <td>Prof-specialty</td>\n",
              "      <td>Not-in-family</td>\n",
              "      <td>White</td>\n",
              "      <td>Female</td>\n",
              "      <td>14084</td>\n",
              "      <td>0</td>\n",
              "      <td>50</td>\n",
              "      <td>United-States</td>\n",
              "      <td>0</td>\n",
              "      <td>0</td>\n",
              "    </tr>\n",
              "    <tr>\n",
              "      <th>1</th>\n",
              "      <td>9</td>\n",
              "      <td>42</td>\n",
              "      <td>Private</td>\n",
              "      <td>159449</td>\n",
              "      <td>Bachelors</td>\n",
              "      <td>13</td>\n",
              "      <td>Married-civ-spouse</td>\n",
              "      <td>Exec-managerial</td>\n",
              "      <td>Husband</td>\n",
              "      <td>White</td>\n",
              "      <td>Male</td>\n",
              "      <td>5178</td>\n",
              "      <td>0</td>\n",
              "      <td>40</td>\n",
              "      <td>United-States</td>\n",
              "      <td>0</td>\n",
              "      <td>0</td>\n",
              "    </tr>\n",
              "    <tr>\n",
              "      <th>2</th>\n",
              "      <td>15</td>\n",
              "      <td>34</td>\n",
              "      <td>Private</td>\n",
              "      <td>245487</td>\n",
              "      <td>7th-8th</td>\n",
              "      <td>4</td>\n",
              "      <td>Married-civ-spouse</td>\n",
              "      <td>Transport-moving</td>\n",
              "      <td>Husband</td>\n",
              "      <td>Amer-Indian-Eskimo</td>\n",
              "      <td>Male</td>\n",
              "      <td>0</td>\n",
              "      <td>0</td>\n",
              "      <td>45</td>\n",
              "      <td>Mexico</td>\n",
              "      <td>1</td>\n",
              "      <td>1</td>\n",
              "    </tr>\n",
              "    <tr>\n",
              "      <th>3</th>\n",
              "      <td>30</td>\n",
              "      <td>23</td>\n",
              "      <td>Local-gov</td>\n",
              "      <td>190709</td>\n",
              "      <td>Assoc-acdm</td>\n",
              "      <td>12</td>\n",
              "      <td>Never-married</td>\n",
              "      <td>Protective-serv</td>\n",
              "      <td>Not-in-family</td>\n",
              "      <td>White</td>\n",
              "      <td>Male</td>\n",
              "      <td>0</td>\n",
              "      <td>0</td>\n",
              "      <td>52</td>\n",
              "      <td>United-States</td>\n",
              "      <td>1</td>\n",
              "      <td>1</td>\n",
              "    </tr>\n",
              "    <tr>\n",
              "      <th>4</th>\n",
              "      <td>34</td>\n",
              "      <td>22</td>\n",
              "      <td>State-gov</td>\n",
              "      <td>311512</td>\n",
              "      <td>Some-college</td>\n",
              "      <td>10</td>\n",
              "      <td>Married-civ-spouse</td>\n",
              "      <td>Other-service</td>\n",
              "      <td>Husband</td>\n",
              "      <td>Black</td>\n",
              "      <td>Male</td>\n",
              "      <td>0</td>\n",
              "      <td>0</td>\n",
              "      <td>15</td>\n",
              "      <td>United-States</td>\n",
              "      <td>1</td>\n",
              "      <td>1</td>\n",
              "    </tr>\n",
              "  </tbody>\n",
              "</table>\n",
              "</div>"
            ],
            "text/plain": [
              "   id  age  workclass  ...  native-country Income_knn  Income_lr\n",
              "0   8   31    Private  ...   United-States          0          0\n",
              "1   9   42    Private  ...   United-States          0          0\n",
              "2  15   34    Private  ...          Mexico          1          1\n",
              "3  30   23  Local-gov  ...   United-States          1          1\n",
              "4  34   22  State-gov  ...   United-States          1          1\n",
              "\n",
              "[5 rows x 17 columns]"
            ]
          },
          "execution_count": 299,
          "metadata": {
            "tags": []
          },
          "output_type": "execute_result"
        }
      ],
      "source": [
        "X_test = test.drop(['id','fnlwgt','workclass','education','occupation','race','native-country'], axis =1)\n",
        "pred = lr.predict(X_test)\n",
        "original['Income_lr'] =pred\n",
        "original.head()"
      ]
    },
    {
      "cell_type": "markdown",
      "metadata": {
        "id": "1eoKZ5rQ366o"
      },
      "source": [
        "### **DECISION TREE**"
      ]
    },
    {
      "cell_type": "code",
      "execution_count": 300,
      "metadata": {
        "id": "EjjeI2HJ7m1G"
      },
      "outputs": [],
      "source": [
        "x= df.drop(['id','fnlwgt','workclass','education','occupation','race','native-country','Income'], axis =1)\n",
        "y= df['Income']\n",
        "x_train, x_test, y_train, y_test = train_test_split(x, y, test_size = 0.25, stratify = y, random_state = 42)"
      ]
    },
    {
      "cell_type": "code",
      "execution_count": 301,
      "metadata": {
        "colab": {
          "base_uri": "https://localhost:8080/",
          "height": 281
        },
        "id": "3k-S3XYoTtn7",
        "outputId": "9ef6b51e-1366-4251-dda2-9e56e84f86f4"
      },
      "outputs": [
        {
          "data": {
            "image/png": "[encoded data removed]",
            "text/plain": [
              "<Figure size 432x288 with 1 Axes>"
            ]
          },
          "metadata": {
            "needs_background": "light",
            "tags": []
          },
          "output_type": "display_data"
        }
      ],
      "source": [
        "max_depths = np.linspace(1, 32, 32, endpoint=True)\n",
        "train_results = []\n",
        "test_results = []\n",
        "dt = DecisionTreeClassifier()\n",
        "dt.fit(x_train, y_train)\n",
        "y_pred = dt.predict(x_test)\n",
        "from sklearn.metrics import roc_curve, auc\n",
        "false_positive_rate, true_positive_rate, thresholds = roc_curve(y_test, y_pred)\n",
        "roc_auc = auc(false_positive_rate, true_positive_rate)\n",
        "for max_depth in max_depths:\n",
        "   dt = DecisionTreeClassifier(max_depth=max_depth)\n",
        "   dt.fit(x_train, y_train)\n",
        "   train_pred = dt.predict(x_train)\n",
        "   false_positive_rate, true_positive_rate, thresholds = roc_curve(y_train, train_pred)\n",
        "   roc_auc = auc(false_positive_rate, true_positive_rate)\n",
        "   # Add auc score to previous train results\n",
        "   train_results.append(roc_auc)\n",
        "   y_pred = dt.predict(x_test)\n",
        "   false_positive_rate, true_positive_rate, thresholds = roc_curve(y_test, y_pred)\n",
        "   roc_auc = auc(false_positive_rate, true_positive_rate)\n",
        "   # Add auc score to previous test results\n",
        "   test_results.append(roc_auc)\n",
        "from matplotlib.legend_handler import HandlerLine2D\n",
        "line1, = plt.plot(max_depths, train_results, 'b', label=\"Train AUC\")\n",
        "line2, = plt.plot(max_depths, test_results, 'r', label=\"Test AUC\")\n",
        "plt.legend(handler_map={line1: HandlerLine2D(numpoints=2)})\n",
        "plt.ylabel('AUC score')\n",
        "plt.xlabel('Tree depth')\n",
        "plt.show()"
      ]
    },
    {
      "cell_type": "code",
      "execution_count": 302,
      "metadata": {
        "colab": {
          "base_uri": "https://localhost:8080/",
          "height": 68
        },
        "id": "5YvWRp1KTpV1",
        "outputId": "344499d6-ffd8-42e7-ebc8-fbd4f3e45398"
      },
      "outputs": [
        {
          "name": "stdout",
          "output_type": "stream",
          "text": [
            "Decision Tree Results :\n",
            "Training Accuracy : 0.8638597167357164\n",
            "Testing Accuracy : 0.8546102707389922\n"
          ]
        }
      ],
      "source": [
        "tree = DecisionTreeClassifier(max_depth=10)\n",
        "tree.fit(x_train, y_train)\n",
        "\n",
        "print(\"Decision Tree Results :\")\n",
        "print(\"Training Accuracy : \" + str(tree.score(x_train,y_train)))\n",
        "print(\"Testing Accuracy : \" + str(tree.score(x_test,y_test)))"
      ]
    },
    {
      "cell_type": "code",
      "execution_count": 303,
      "metadata": {
        "colab": {
          "base_uri": "https://localhost:8080/",
          "height": 394
        },
        "id": "TyIiv1UR5cU9",
        "outputId": "c63ee4a7-cf65-43c2-f076-a3ad5b9a97aa"
      },
      "outputs": [
        {
          "data": {
            "text/html": [
              "<div>\n",
              "<style scoped>\n",
              "    .dataframe tbody tr th:only-of-type {\n",
              "        vertical-align: middle;\n",
              "    }\n",
              "\n",
              "    .dataframe tbody tr th {\n",
              "        vertical-align: top;\n",
              "    }\n",
              "\n",
              "    .dataframe thead th {\n",
              "        text-align: right;\n",
              "    }\n",
              "</style>\n",
              "<table border=\"1\" class=\"dataframe\">\n",
              "  <thead>\n",
              "    <tr style=\"text-align: right;\">\n",
              "      <th></th>\n",
              "      <th>id</th>\n",
              "      <th>age</th>\n",
              "      <th>workclass</th>\n",
              "      <th>fnlwgt</th>\n",
              "      <th>education</th>\n",
              "      <th>education-num</th>\n",
              "      <th>marital-status</th>\n",
              "      <th>occupation</th>\n",
              "      <th>relationship</th>\n",
              "      <th>race</th>\n",
              "      <th>sex</th>\n",
              "      <th>capital-gain</th>\n",
              "      <th>capital-loss</th>\n",
              "      <th>hours-per-week</th>\n",
              "      <th>native-country</th>\n",
              "      <th>Income_knn</th>\n",
              "      <th>Income_lr</th>\n",
              "      <th>Income_dt</th>\n",
              "    </tr>\n",
              "  </thead>\n",
              "  <tbody>\n",
              "    <tr>\n",
              "      <th>0</th>\n",
              "      <td>8</td>\n",
              "      <td>31</td>\n",
              "      <td>Private</td>\n",
              "      <td>45781</td>\n",
              "      <td>Masters</td>\n",
              "      <td>14</td>\n",
              "      <td>Never-married</td>\n",
              "      <td>Prof-specialty</td>\n",
              "      <td>Not-in-family</td>\n",
              "      <td>White</td>\n",
              "      <td>Female</td>\n",
              "      <td>14084</td>\n",
              "      <td>0</td>\n",
              "      <td>50</td>\n",
              "      <td>United-States</td>\n",
              "      <td>0</td>\n",
              "      <td>0</td>\n",
              "      <td>0</td>\n",
              "    </tr>\n",
              "    <tr>\n",
              "      <th>1</th>\n",
              "      <td>9</td>\n",
              "      <td>42</td>\n",
              "      <td>Private</td>\n",
              "      <td>159449</td>\n",
              "      <td>Bachelors</td>\n",
              "      <td>13</td>\n",
              "      <td>Married-civ-spouse</td>\n",
              "      <td>Exec-managerial</td>\n",
              "      <td>Husband</td>\n",
              "      <td>White</td>\n",
              "      <td>Male</td>\n",
              "      <td>5178</td>\n",
              "      <td>0</td>\n",
              "      <td>40</td>\n",
              "      <td>United-States</td>\n",
              "      <td>0</td>\n",
              "      <td>0</td>\n",
              "      <td>0</td>\n",
              "    </tr>\n",
              "    <tr>\n",
              "      <th>2</th>\n",
              "      <td>15</td>\n",
              "      <td>34</td>\n",
              "      <td>Private</td>\n",
              "      <td>245487</td>\n",
              "      <td>7th-8th</td>\n",
              "      <td>4</td>\n",
              "      <td>Married-civ-spouse</td>\n",
              "      <td>Transport-moving</td>\n",
              "      <td>Husband</td>\n",
              "      <td>Amer-Indian-Eskimo</td>\n",
              "      <td>Male</td>\n",
              "      <td>0</td>\n",
              "      <td>0</td>\n",
              "      <td>45</td>\n",
              "      <td>Mexico</td>\n",
              "      <td>1</td>\n",
              "      <td>1</td>\n",
              "      <td>1</td>\n",
              "    </tr>\n",
              "    <tr>\n",
              "      <th>3</th>\n",
              "      <td>30</td>\n",
              "      <td>23</td>\n",
              "      <td>Local-gov</td>\n",
              "      <td>190709</td>\n",
              "      <td>Assoc-acdm</td>\n",
              "      <td>12</td>\n",
              "      <td>Never-married</td>\n",
              "      <td>Protective-serv</td>\n",
              "      <td>Not-in-family</td>\n",
              "      <td>White</td>\n",
              "      <td>Male</td>\n",
              "      <td>0</td>\n",
              "      <td>0</td>\n",
              "      <td>52</td>\n",
              "      <td>United-States</td>\n",
              "      <td>1</td>\n",
              "      <td>1</td>\n",
              "      <td>1</td>\n",
              "    </tr>\n",
              "    <tr>\n",
              "      <th>4</th>\n",
              "      <td>34</td>\n",
              "      <td>22</td>\n",
              "      <td>State-gov</td>\n",
              "      <td>311512</td>\n",
              "      <td>Some-college</td>\n",
              "      <td>10</td>\n",
              "      <td>Married-civ-spouse</td>\n",
              "      <td>Other-service</td>\n",
              "      <td>Husband</td>\n",
              "      <td>Black</td>\n",
              "      <td>Male</td>\n",
              "      <td>0</td>\n",
              "      <td>0</td>\n",
              "      <td>15</td>\n",
              "      <td>United-States</td>\n",
              "      <td>1</td>\n",
              "      <td>1</td>\n",
              "      <td>1</td>\n",
              "    </tr>\n",
              "  </tbody>\n",
              "</table>\n",
              "</div>"
            ],
            "text/plain": [
              "   id  age  workclass  fnlwgt  ... native-country  Income_knn Income_lr Income_dt\n",
              "0   8   31    Private   45781  ...  United-States           0         0         0\n",
              "1   9   42    Private  159449  ...  United-States           0         0         0\n",
              "2  15   34    Private  245487  ...         Mexico           1         1         1\n",
              "3  30   23  Local-gov  190709  ...  United-States           1         1         1\n",
              "4  34   22  State-gov  311512  ...  United-States           1         1         1\n",
              "\n",
              "[5 rows x 18 columns]"
            ]
          },
          "execution_count": 303,
          "metadata": {
            "tags": []
          },
          "output_type": "execute_result"
        }
      ],
      "source": [
        "X_test = test.drop(['id','fnlwgt','workclass','education','occupation','race','native-country'], axis =1)\n",
        "pred = tree.predict(X_test)\n",
        "original['Income_dt'] =pred\n",
        "original.head()"
      ]
    },
    {
      "cell_type": "markdown",
      "metadata": {
        "id": "roJVSeMf562m"
      },
      "source": [
        "### **RANDOM FOREST**"
      ]
    },
    {
      "cell_type": "code",
      "execution_count": 304,
      "metadata": {
        "id": "NVU7uYxo6Abo"
      },
      "outputs": [],
      "source": [
        "x= df.drop(['id','fnlwgt','workclass','education','occupation','race','native-country','Income'], axis =1)\n",
        "y= df['Income']\n",
        "x_train, x_test, y_train, y_test = train_test_split(x, y, test_size=0.3, stratify=y, random_state=42)"
      ]
    },
    {
      "cell_type": "code",
      "execution_count": 305,
      "metadata": {
        "colab": {
          "base_uri": "https://localhost:8080/",
          "height": 374
        },
        "id": "ivJCj2pW6Htf",
        "outputId": "5e490c3e-7aef-4c0b-9019-a89fd8bb4f4c"
      },
      "outputs": [
        {
          "name": "stdout",
          "output_type": "stream",
          "text": [
            "Trees = 10 : Score =  0.8390204737053393\n",
            "Trees = 20 : Score =  0.839502207948615\n",
            "Trees = 30 : Score =  0.8426334805299077\n",
            "Trees = 40 : Score =  0.8432757928542753\n",
            "Trees = 50 : Score =  0.8445604175030108\n",
            "Trees = 60 : Score =  0.8434363709353673\n",
            "Trees = 70 : Score =  0.8451224407868326\n",
            "Trees = 80 : Score =  0.8455238859895624\n",
            "Trees = 90 : Score =  0.8454435969490165\n",
            "Trees = 100 : Score =  0.8463267763950221\n",
            "Trees = 110 : Score =  0.8453633079084705\n",
            "Trees = 120 : Score =  0.8452830188679246\n",
            "Trees = 130 : Score =  0.8454435969490165\n",
            "Trees = 140 : Score =  0.8456844640706543\n",
            "Trees = 150 : Score =  0.8468085106382979\n",
            "Trees = 160 : Score =  0.8439983942191891\n",
            "Trees = 170 : Score =  0.8450421517462866\n",
            "Trees = 180 : Score =  0.846728221597752\n",
            "Trees = 190 : Score =  0.8460859092733842\n",
            "Best score =  0.8468085106382979\n",
            "No of Trees =  150\n"
          ]
        }
      ],
      "source": [
        "best_score = 0\n",
        "n_trees = list(range(10,200, 10))\n",
        "\n",
        "for trees in n_trees:\n",
        "    rf_trees = RandomForestClassifier(n_estimators = trees, n_jobs = -1)\n",
        "    rf_trees.fit(x_train, y_train)\n",
        "    score = rf_trees.score(x_test, y_test)\n",
        "    print(\"Trees =\", trees, \": Score = \", score)\n",
        "    if score > best_score:\n",
        "        best_score = score\n",
        "        best_parameters = trees\n",
        "\n",
        "print(\"Best score = \", best_score)\n",
        "print(\"No of Trees = \", best_parameters)"
      ]
    },
    {
      "cell_type": "code",
      "execution_count": 306,
      "metadata": {
        "colab": {
          "base_uri": "https://localhost:8080/",
          "height": 51
        },
        "id": "r6ig3acA9K-Z",
        "outputId": "f05f1f31-5a00-48b2-f244-b165fedf8c99"
      },
      "outputs": [
        {
          "name": "stdout",
          "output_type": "stream",
          "text": [
            "Training Accuracy : 0.9228863425209043\n",
            "Testing Accuracy : 0.8464070654355681\n"
          ]
        }
      ],
      "source": [
        "rf_trees = RandomForestClassifier(n_estimators = best_parameters, n_jobs = -1)\n",
        "rf_trees.fit(x_train, y_train)\n",
        "print(\"Training Accuracy : \" + str(rf_trees.score(x_train,y_train)))\n",
        "print(\"Testing Accuracy : \" + str(rf_trees.score(x_test,y_test)))"
      ]
    },
    {
      "cell_type": "code",
      "execution_count": 307,
      "metadata": {
        "colab": {
          "base_uri": "https://localhost:8080/",
          "height": 394
        },
        "id": "diV75PaIJoRi",
        "outputId": "ae81dc56-9686-4c11-e4ce-1b349562b228"
      },
      "outputs": [
        {
          "data": {
            "text/html": [
              "<div>\n",
              "<style scoped>\n",
              "    .dataframe tbody tr th:only-of-type {\n",
              "        vertical-align: middle;\n",
              "    }\n",
              "\n",
              "    .dataframe tbody tr th {\n",
              "        vertical-align: top;\n",
              "    }\n",
              "\n",
              "    .dataframe thead th {\n",
              "        text-align: right;\n",
              "    }\n",
              "</style>\n",
              "<table border=\"1\" class=\"dataframe\">\n",
              "  <thead>\n",
              "    <tr style=\"text-align: right;\">\n",
              "      <th></th>\n",
              "      <th>id</th>\n",
              "      <th>age</th>\n",
              "      <th>workclass</th>\n",
              "      <th>fnlwgt</th>\n",
              "      <th>education</th>\n",
              "      <th>education-num</th>\n",
              "      <th>marital-status</th>\n",
              "      <th>occupation</th>\n",
              "      <th>relationship</th>\n",
              "      <th>race</th>\n",
              "      <th>sex</th>\n",
              "      <th>capital-gain</th>\n",
              "      <th>capital-loss</th>\n",
              "      <th>hours-per-week</th>\n",
              "      <th>native-country</th>\n",
              "      <th>Income_knn</th>\n",
              "      <th>Income_lr</th>\n",
              "      <th>Income_dt</th>\n",
              "      <th>Income_rf</th>\n",
              "    </tr>\n",
              "  </thead>\n",
              "  <tbody>\n",
              "    <tr>\n",
              "      <th>0</th>\n",
              "      <td>8</td>\n",
              "      <td>31</td>\n",
              "      <td>Private</td>\n",
              "      <td>45781</td>\n",
              "      <td>Masters</td>\n",
              "      <td>14</td>\n",
              "      <td>Never-married</td>\n",
              "      <td>Prof-specialty</td>\n",
              "      <td>Not-in-family</td>\n",
              "      <td>White</td>\n",
              "      <td>Female</td>\n",
              "      <td>14084</td>\n",
              "      <td>0</td>\n",
              "      <td>50</td>\n",
              "      <td>United-States</td>\n",
              "      <td>0</td>\n",
              "      <td>0</td>\n",
              "      <td>0</td>\n",
              "      <td>0</td>\n",
              "    </tr>\n",
              "    <tr>\n",
              "      <th>1</th>\n",
              "      <td>9</td>\n",
              "      <td>42</td>\n",
              "      <td>Private</td>\n",
              "      <td>159449</td>\n",
              "      <td>Bachelors</td>\n",
              "      <td>13</td>\n",
              "      <td>Married-civ-spouse</td>\n",
              "      <td>Exec-managerial</td>\n",
              "      <td>Husband</td>\n",
              "      <td>White</td>\n",
              "      <td>Male</td>\n",
              "      <td>5178</td>\n",
              "      <td>0</td>\n",
              "      <td>40</td>\n",
              "      <td>United-States</td>\n",
              "      <td>0</td>\n",
              "      <td>0</td>\n",
              "      <td>0</td>\n",
              "      <td>0</td>\n",
              "    </tr>\n",
              "    <tr>\n",
              "      <th>2</th>\n",
              "      <td>15</td>\n",
              "      <td>34</td>\n",
              "      <td>Private</td>\n",
              "      <td>245487</td>\n",
              "      <td>7th-8th</td>\n",
              "      <td>4</td>\n",
              "      <td>Married-civ-spouse</td>\n",
              "      <td>Transport-moving</td>\n",
              "      <td>Husband</td>\n",
              "      <td>Amer-Indian-Eskimo</td>\n",
              "      <td>Male</td>\n",
              "      <td>0</td>\n",
              "      <td>0</td>\n",
              "      <td>45</td>\n",
              "      <td>Mexico</td>\n",
              "      <td>1</td>\n",
              "      <td>1</td>\n",
              "      <td>1</td>\n",
              "      <td>1</td>\n",
              "    </tr>\n",
              "    <tr>\n",
              "      <th>3</th>\n",
              "      <td>30</td>\n",
              "      <td>23</td>\n",
              "      <td>Local-gov</td>\n",
              "      <td>190709</td>\n",
              "      <td>Assoc-acdm</td>\n",
              "      <td>12</td>\n",
              "      <td>Never-married</td>\n",
              "      <td>Protective-serv</td>\n",
              "      <td>Not-in-family</td>\n",
              "      <td>White</td>\n",
              "      <td>Male</td>\n",
              "      <td>0</td>\n",
              "      <td>0</td>\n",
              "      <td>52</td>\n",
              "      <td>United-States</td>\n",
              "      <td>1</td>\n",
              "      <td>1</td>\n",
              "      <td>1</td>\n",
              "      <td>1</td>\n",
              "    </tr>\n",
              "    <tr>\n",
              "      <th>4</th>\n",
              "      <td>34</td>\n",
              "      <td>22</td>\n",
              "      <td>State-gov</td>\n",
              "      <td>311512</td>\n",
              "      <td>Some-college</td>\n",
              "      <td>10</td>\n",
              "      <td>Married-civ-spouse</td>\n",
              "      <td>Other-service</td>\n",
              "      <td>Husband</td>\n",
              "      <td>Black</td>\n",
              "      <td>Male</td>\n",
              "      <td>0</td>\n",
              "      <td>0</td>\n",
              "      <td>15</td>\n",
              "      <td>United-States</td>\n",
              "      <td>1</td>\n",
              "      <td>1</td>\n",
              "      <td>1</td>\n",
              "      <td>1</td>\n",
              "    </tr>\n",
              "  </tbody>\n",
              "</table>\n",
              "</div>"
            ],
            "text/plain": [
              "   id  age  workclass  fnlwgt  ... Income_knn  Income_lr Income_dt Income_rf\n",
              "0   8   31    Private   45781  ...          0          0         0         0\n",
              "1   9   42    Private  159449  ...          0          0         0         0\n",
              "2  15   34    Private  245487  ...          1          1         1         1\n",
              "3  30   23  Local-gov  190709  ...          1          1         1         1\n",
              "4  34   22  State-gov  311512  ...          1          1         1         1\n",
              "\n",
              "[5 rows x 19 columns]"
            ]
          },
          "execution_count": 307,
          "metadata": {
            "tags": []
          },
          "output_type": "execute_result"
        }
      ],
      "source": [
        "X_test = test.drop(['id','fnlwgt','workclass','education','occupation','race','native-country'], axis =1)\n",
        "pred = rf_trees.predict(X_test)\n",
        "original['Income_rf'] = pred\n",
        "original.head()"
      ]
    },
    {
      "cell_type": "markdown",
      "metadata": {
        "id": "LQu88sBDNJbp"
      },
      "source": [
        "### ***GETTING CSV***"
      ]
    },
    {
      "cell_type": "code",
      "execution_count": 308,
      "metadata": {
        "id": "dUJdnTpLNTOx"
      },
      "outputs": [],
      "source": [
        "original.to_csv('/content/result.csv', index=False)"
      ]
    }
  ],
  "metadata": {
    "colab": {
      "collapsed_sections": [],
      "name": "1914065_ML_Final_Assgn.ipynb",
      "provenance": []
    },
    "kernelspec": {
      "display_name": "Python 3",
      "name": "python3"
    }
  },
  "nbformat": 4,
  "nbformat_minor": 0
}
